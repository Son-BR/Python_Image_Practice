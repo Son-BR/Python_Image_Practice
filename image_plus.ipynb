{
 "cells": [
  {
   "cell_type": "code",
   "execution_count": 1,
   "metadata": {},
   "outputs": [],
   "source": [
    "import numpy as np\n",
    "import cv2 "
   ]
  },
  {
   "cell_type": "code",
   "execution_count": 2,
   "metadata": {},
   "outputs": [],
   "source": [
    "## 유튜브 opencv를 이용하여 사진에 얼굴만 모자이크 처리\n",
    "\n",
    "face_cascade = cv2.CascadeClassifier(cv2.data.haarcascades + 'haarcascade_frontalface_default.xml')\n",
    "eye_casecade = cv2.CascadeClassifier(cv2.data.haarcascades + 'haarcascade_eye.xml')\n",
    "ff = np.fromfile('./Data/Image/02.jpg', np.uint8)\n",
    "img = cv2.imdecode(ff, cv2.IMREAD_UNCHANGED)\n",
    "img = cv2.resize(img, dsize=(0, 0), fx=1.0, fy=1.0, interpolation=cv2.INTER_LINEAR)\n",
    "gray = cv2.cvtColor(img, cv2.COLOR_BGR2GRAY)\n",
    "\n",
    "# 얼굴 찾는 코드\n",
    "faces = face_cascade.detectMultiScale(gray, 1.2, 5)\n",
    "\n",
    "\n",
    "\n",
    "\n",
    "# 얼굴 모자이크 코드\n",
    "for (x,y,w,h) in faces:\n",
    "    face_img = img[y:y+h, x:x+w]\n",
    "    face_img = cv2.resize(face_img, dsize=(0,0), fx=0.07, fy=0.07)\n",
    "    face_img = cv2.resize(face_img, (w,h), interpolation=cv2.INTER_AREA)\n",
    "    \n",
    "    # 얼굴 덮기\n",
    "    src = cv2.imread('./Data/Image/face.jpg', cv2.IMREAD_UNCHANGED)\n",
    "    src = cv2.resize(src, (0, 0), fx=4, fy=4, interpolation=cv2.INTER_NEAREST)\n",
    "    src = cv2.resize(src, (h, h))\n",
    "    mask = src[:, :, -1]    # mask는 알파 채널로 만든 마스크 영상\n",
    "    src = src[:, :, 0:3]    # src는 b, g, r 3채널로 구성된 컬러 영상\n",
    "\n",
    "    h, w = src.shape[:2]\n",
    "\n",
    "    crop = face_img[0:h, 0:w]\n",
    "\n",
    "\n",
    "\n",
    "\n",
    "    img[y:y+h, x:x+h] = (img[y:y+h, x:x+h])*0.3+src*0.8\n",
    "\n",
    "cv2.imshow('face find', img)\n",
    "cv2.waitKey(0)\n",
    "cv2.destroyAllWindows()"
   ]
  },
  {
   "cell_type": "code",
   "execution_count": null,
   "metadata": {},
   "outputs": [],
   "source": []
  },
  {
   "cell_type": "code",
   "execution_count": null,
   "metadata": {},
   "outputs": [],
   "source": [
    "# 알파 채널을 마스크 영상으로 이용\n",
    "src = cv2.imread('./Data/Image/face.jpg', cv2.IMREAD_UNCHANGED)\n",
    "src = cv2.resize(src, (0, 0), fx=4, fy=4, interpolation=cv2.INTER_NEAREST)\n",
    "src = cv2.resize(src, (32, 32))\n",
    "\n",
    "mask = src[:, :, -1]    # mask는 알파 채널로 만든 마스크 영상\n",
    "src = src[:, :, 0:3]    # src는 b, g, r 3채널로 구성된 컬러 영상\n",
    "dst = cv2.imread('./Data/Image/02.jpg', cv2.IMREAD_COLOR)\n",
    "\n",
    "h, w = src.shape[:2]\n",
    "\n",
    "crop = dst[0:h, 0:w]    # src, mask와 같은 크기의 부분 영상 추출\n",
    "\n",
    "cv2.copyTo(src, mask, crop)\n",
    "\n",
    "#cv2.imshow('src', src)\n",
    "cv2.imshow('dst', dst)\n",
    "#cv2.imshow('mask', mask)\n",
    "cv2.waitKey() \n",
    "cv2.destroyAllWindows()"
   ]
  },
  {
   "cell_type": "code",
   "execution_count": null,
   "metadata": {},
   "outputs": [],
   "source": []
  },
  {
   "cell_type": "code",
   "execution_count": null,
   "metadata": {},
   "outputs": [],
   "source": []
  },
  {
   "cell_type": "code",
   "execution_count": null,
   "metadata": {},
   "outputs": [],
   "source": []
  }
 ],
 "metadata": {
  "kernelspec": {
   "display_name": "Python 3.9.13 ('conda3.9')",
   "language": "python",
   "name": "python3"
  },
  "language_info": {
   "codemirror_mode": {
    "name": "ipython",
    "version": 3
   },
   "file_extension": ".py",
   "mimetype": "text/x-python",
   "name": "python",
   "nbconvert_exporter": "python",
   "pygments_lexer": "ipython3",
   "version": "3.9.13"
  },
  "orig_nbformat": 4,
  "vscode": {
   "interpreter": {
    "hash": "0088ee2cbd7afdef503747ad15d8e9b92c4b3cb4dc2274aa1e35eb8b607389d9"
   }
  }
 },
 "nbformat": 4,
 "nbformat_minor": 2
}
