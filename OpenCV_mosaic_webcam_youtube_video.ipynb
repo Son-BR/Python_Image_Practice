{
 "cells": [
  {
   "cell_type": "markdown",
   "metadata": {},
   "source": [
    "# 실시간 웹캠 모자이크 처리"
   ]
  },
  {
   "cell_type": "code",
   "execution_count": 1,
   "metadata": {},
   "outputs": [],
   "source": [
    "# packages\n",
    "import cvlib as cv\n",
    "import cv2\n"
   ]
  },
  {
   "cell_type": "code",
   "execution_count": 2,
   "metadata": {},
   "outputs": [],
   "source": [
    "import pafy\n",
    "\n",
    "# import cv2\n",
    " \n",
    "# ########### 카메라 대신 youtube영상으로 대체 ############\n",
    "# import pafy\n",
    "# url = 'https://www.youtube.com/watch?v=HRt50BPtZSQ'\n",
    "# video = pafy.new(url)\n",
    "# print('title = ', video.title)\n",
    "# print('video.rating = ', video.rating)\n",
    "# print('video.duration = ', video.duration)\n",
    " \n",
    "# best = video.getbest(preftype='mp4')     # 'webm','3gp'\n",
    "# print('best.resolution', best.resolution)\n",
    " \n",
    "# cap=cv2.VideoCapture(best.url)\n",
    "# #########################################################\n",
    " \n",
    "# #cap = cv2.VideoCapture(0) # 0번 카메라"
   ]
  },
  {
   "cell_type": "code",
   "execution_count": 3,
   "metadata": {},
   "outputs": [
    {
     "name": "stdout",
     "output_type": "stream",
     "text": [
      "Finish\n"
     ]
    }
   ],
   "source": [
    "# youtube 동영상\n",
    "# url = 'https://www.youtube.com/watch?v=KMUyK42HsRY'\n",
    "# video = pafy.new(url)\n",
    "# best = video.getbest(preftype='mp4')     # 'webm','3gp'\n",
    "# webcam=cv2.VideoCapture(best.url)\n",
    "\n",
    "# open webcaideom\n",
    "\n",
    "# 0: 웹캠 열기 \n",
    "webcam=cv2.VideoCapture(0)\n",
    "\n",
    "# 저장된 동영상\n",
    "# webcam=cv2.VideoCapture(\"./Data/humans_pixabay.mp4\")\n",
    "\n",
    "if not webcam.isOpened():\n",
    "    print(\"Could not open webcam\")\n",
    "    exit()\n",
    "    \n",
    "# loop through frames\n",
    "while webcam.isOpened():\n",
    " \n",
    "    # read frame from webcam \n",
    "    status, frame = webcam.read()\n",
    " \n",
    "    if not status:\n",
    "        print(\"Could not read frame\")\n",
    "        exit()\n",
    " \n",
    "    # apply face detection\n",
    "    face, confidence = cv.detect_face(frame)\n",
    " \n",
    "    # print(face)\n",
    "    # print(confidence)\n",
    " \n",
    "    # loop through detected faces\n",
    "    for idx, f in enumerate(face):\n",
    "        \n",
    "        (startX, startY) = f[0], f[1]\n",
    "        (endX, endY) = f[2], f[3]\n",
    " \n",
    "        '모자이크 효과 주기: 얼굴 부분을 줄였다가 다시 원크기로 복구시키면 모자이크처럼 됨.'\n",
    "        # 얼굴부분만 추출\n",
    "        face_region = frame[startY:endY, startX:endX]\n",
    "        \n",
    "        # 얼굴부분의 원래 크기\n",
    "        M = face_region.shape[0]\n",
    "        N = face_region.shape[1]\n",
    "        \n",
    "        # 얼굴부분을 가로세로 1/20(0.05)로 축소\n",
    "        # cv2.resize(이미지, 절대크기, 상대fx, 상대fy, interpolation:보간법)\n",
    "        # interpolation: https://076923.github.io/posts/Python-opencv-8/\n",
    "        face_region = cv2.resize(face_region, None, fx=0.05, fy=0.05, interpolation=cv2.INTER_AREA)\n",
    "        face_region = cv2.resize(face_region, (N, M), interpolation=cv2.INTER_AREA)\n",
    "        \n",
    "        # 원본 이미지의 얼굴에 대체\n",
    "        frame[startY:endY, startX:endX] = face_region\n",
    "    \n",
    "    # 좌우 대칭: cv2.flip(이미지, 방향) 0:상하 1:좌우 -1:상하좌우\n",
    "    frame=cv2.flip(frame, 1)\n",
    "    \n",
    "    # display output\n",
    "    cv2.imshow(\"Real-time face detection\", frame)\n",
    " \n",
    "    # press \"Q\" to stop\n",
    "    if cv2.waitKey(1) & 0xFF == ord('q'):\n",
    "        break\n",
    "    \n",
    "# release resources\n",
    "webcam.release()\n",
    "cv2.destroyAllWindows()\n",
    "\n",
    "print('Finish')\n"
   ]
  },
  {
   "cell_type": "code",
   "execution_count": null,
   "metadata": {},
   "outputs": [],
   "source": []
  },
  {
   "cell_type": "code",
   "execution_count": null,
   "metadata": {},
   "outputs": [],
   "source": []
  },
  {
   "cell_type": "code",
   "execution_count": null,
   "metadata": {},
   "outputs": [],
   "source": []
  },
  {
   "cell_type": "code",
   "execution_count": null,
   "metadata": {},
   "outputs": [],
   "source": []
  },
  {
   "cell_type": "code",
   "execution_count": null,
   "metadata": {},
   "outputs": [],
   "source": []
  },
  {
   "cell_type": "code",
   "execution_count": null,
   "metadata": {},
   "outputs": [],
   "source": []
  }
 ],
 "metadata": {
  "kernelspec": {
   "display_name": "Python 3.8.13 ('torch_conda3.8')",
   "language": "python",
   "name": "python3"
  },
  "language_info": {
   "codemirror_mode": {
    "name": "ipython",
    "version": 3
   },
   "file_extension": ".py",
   "mimetype": "text/x-python",
   "name": "python",
   "nbconvert_exporter": "python",
   "pygments_lexer": "ipython3",
   "version": "3.8.13"
  },
  "orig_nbformat": 4,
  "vscode": {
   "interpreter": {
    "hash": "f98a42b8bc21e77715747c9bb39187f4c90456d6964ccc6a99ab4ed80b694914"
   }
  }
 },
 "nbformat": 4,
 "nbformat_minor": 2
}
