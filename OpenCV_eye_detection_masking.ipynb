{
 "cells": [
  {
   "cell_type": "code",
   "execution_count": 1,
   "metadata": {},
   "outputs": [],
   "source": [
    "import numpy as np\n",
    "import cv2 "
   ]
  },
  {
   "cell_type": "code",
   "execution_count": 2,
   "metadata": {},
   "outputs": [],
   "source": [
    "## 이미지 눈탐색 후 black masking\n",
    "\n",
    "face_cascade = cv2.CascadeClassifier(cv2.data.haarcascades + 'haarcascade_frontalface_default.xml')\n",
    "eye_casecade = cv2.CascadeClassifier(cv2.data.haarcascades + 'haarcascade_eye.xml')\n",
    "ff = np.fromfile('./Data/Image/02.jpg', np.uint8)\n",
    "img = cv2.imdecode(ff, cv2.IMREAD_UNCHANGED)\n",
    "img = cv2.resize(img, dsize=(0, 0), fx=1.0, fy=1.0, interpolation=cv2.INTER_LINEAR)\n",
    "gray = cv2.cvtColor(img, cv2.COLOR_BGR2GRAY)\n",
    "\n",
    "# 얼굴 찾는 코드\n",
    "faces = face_cascade.detectMultiScale(gray, 1.2, 5)\n",
    "\n",
    "# 눈 찾는 코드\n",
    "for (x,y,w,h) in faces:\n",
    "    # cv2.rectangle(img, (x,y), (x+w, y+h), (255,0,0), 2)\n",
    "    roi_gray = gray[y:y+h, x:x+w]\n",
    "    roi_color = img[y:y+h, x:x+w]\n",
    "    eyes = eye_casecade.detectMultiScale(roi_gray)\n",
    "    \n",
    "    # 눈 위치 네모박스\n",
    "    ex, ey, ew, eh=eyes[0]\n",
    "    ex2, ey2, ew2, eh2=eyes[1]\n",
    "    cv2.rectangle(roi_color, (ex-10, ey+8), (ex2+ew2+10, ey2+eh2-8), (0,0,0), -1)\n",
    "    \n",
    "    # for (ex, ey, ew, eh) in (eyes):\n",
    "    #     #print(ex, ey, ew, eh)\n",
    "    #     print(eyes)\n",
    "    #     cv2.rectangle(roi_color, (ex, ey), (ex+ew, ey+eh), (0,0,0), -1)\n",
    "        \n",
    "cv2.imshow('face find', img)\n",
    "cv2.waitKey(0)\n",
    "cv2.destroyAllWindows()"
   ]
  },
  {
   "cell_type": "code",
   "execution_count": null,
   "metadata": {},
   "outputs": [],
   "source": []
  }
 ],
 "metadata": {
  "kernelspec": {
   "display_name": "Python 3.9.13 ('conda3.9')",
   "language": "python",
   "name": "python3"
  },
  "language_info": {
   "codemirror_mode": {
    "name": "ipython",
    "version": 3
   },
   "file_extension": ".py",
   "mimetype": "text/x-python",
   "name": "python",
   "nbconvert_exporter": "python",
   "pygments_lexer": "ipython3",
   "version": "3.9.13"
  },
  "orig_nbformat": 4,
  "vscode": {
   "interpreter": {
    "hash": "0088ee2cbd7afdef503747ad15d8e9b92c4b3cb4dc2274aa1e35eb8b607389d9"
   }
  }
 },
 "nbformat": 4,
 "nbformat_minor": 2
}
