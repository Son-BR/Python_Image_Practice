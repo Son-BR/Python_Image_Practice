{
 "cells": [
  {
   "cell_type": "code",
   "execution_count": 1,
   "metadata": {},
   "outputs": [],
   "source": [
    "import numpy as np\n",
    "import cv2 "
   ]
  },
  {
   "cell_type": "code",
   "execution_count": 2,
   "metadata": {},
   "outputs": [],
   "source": [
    "def eye_detect(path):\n",
    "    face_cascade = cv2.CascadeClassifier(cv2.data.haarcascades + 'haarcascade_frontalface_default.xml')\n",
    "    eye_casecade = cv2.CascadeClassifier(cv2.data.haarcascades + 'haarcascade_eye.xml')\n",
    "    ff = np.fromfile(path, np.uint8)\n",
    "    img = cv2.imdecode(ff, cv2.IMREAD_UNCHANGED)\n",
    "    img = cv2.resize(img, dsize=(0, 0), fx=1.0, fy=1.0, interpolation=cv2.INTER_LINEAR)\n",
    "    gray = cv2.cvtColor(img, cv2.COLOR_BGR2GRAY)\n",
    "    \n",
    "    # 얼굴 찾는 코드\n",
    "    faces = face_cascade.detectMultiScale(gray, 1.2, 5)\n",
    "    \n",
    "    # 눈 찾는 코드\n",
    "    eyes=[]\n",
    "    for (x,y,w,h) in faces:\n",
    "        # cv2.rectangle(img, (x,y), (x+w, y+h), (255,0,0), 2)\n",
    "        roi_gray = gray[y:y+h, x:x+w]\n",
    "        roi_color = img[y:y+h, x:x+w]\n",
    "        eyes = eye_casecade.detectMultiScale(roi_gray)\n",
    "    \n",
    "    return img, eyes, roi_color"
   ]
  },
  {
   "cell_type": "code",
   "execution_count": 3,
   "metadata": {},
   "outputs": [],
   "source": [
    "img, eyes, roi_color = eye_detect('./Data/Image/02.jpg')\n",
    "\n",
    "cv2.imshow('img', img)\n",
    "cv2.waitKey(0)\n",
    "cv2.destroyAllWindows()"
   ]
  },
  {
   "cell_type": "code",
   "execution_count": 4,
   "metadata": {},
   "outputs": [],
   "source": [
    "img, eyes, roi_color = eye_detect('./Data/Image/02.jpg')\n",
    "\n",
    "x1, x2, x3, x4 =eyes[0]\n",
    "y1, y2, y3, y4=eyes[1]\n",
    "\n",
    "left=roi_color[x1:x1+x3,x2:x2+x4]\n",
    "right=roi_color[y2:y2+y4,y1:y1+y3]\n",
    "\n",
    "cv2.imshow('img2', left)\n",
    "cv2.waitKey(0)\n",
    "cv2.destroyAllWindows()\n",
    "\n",
    "cv2.imshow('img2', right)\n",
    "cv2.waitKey(0)\n",
    "cv2.destroyAllWindows()"
   ]
  },
  {
   "cell_type": "code",
   "execution_count": 5,
   "metadata": {},
   "outputs": [
    {
     "data": {
      "text/plain": [
       "True"
      ]
     },
     "execution_count": 5,
     "metadata": {},
     "output_type": "execute_result"
    }
   ],
   "source": [
    "# 눈만 저장\n",
    "img2, eyes2, roi_color2 = eye_detect('./Data/Image/face.jpg')\n",
    "\n",
    "x11, x12, x13, x14 =eyes2[0]\n",
    "y11, y12, y13, y14=eyes2[1]\n",
    "\n",
    "left2=roi_color2[x11:x11+x13,x12:x12+x14]\n",
    "right2=roi_color2[y12:y12+y14,y11:y11+y13]\n",
    "\n",
    "cv2.imwrite('./Data/Image/Test/left.jpg',left2)\n",
    "cv2.imwrite('./Data/Image/Test/right.jpg',right2)"
   ]
  },
  {
   "cell_type": "code",
   "execution_count": 7,
   "metadata": {},
   "outputs": [],
   "source": [
    "# 알파 채널을 마스크 영상으로 이용\n",
    "\n",
    "left = cv2.imread('./Data/Image/Test/left.jpg', cv2.IMREAD_UNCHANGED)\n",
    "left = cv2.resize(left, (0, 0), fx=4, fy=4, interpolation=cv2.INTER_NEAREST)\n",
    "left = cv2.resize(left, (32, 32))\n",
    "\n",
    "right = cv2.imread('./Data/Image/Test/right.jpg', cv2.IMREAD_UNCHANGED)\n",
    "right = cv2.resize(right, (0, 0), fx=4, fy=4, interpolation=cv2.INTER_NEAREST)\n",
    "right = cv2.resize(right, (32, 32))\n",
    "\n",
    "\n",
    "mask1 = left[:, :, -1]    # mask는 알파 채널로 만든 마스크 영상\n",
    "src1 = left[:, :, 0:3]    # src는 b, g, r 3채널로 구성된 컬러 영상\n",
    "\n",
    "mask2 = right[:, :, -1]    # mask는 알파 채널로 만든 마스크 영상\n",
    "src2 = right[:, :, 0:3]    # src는 b, g, r 3채널로 구성된 컬러 영상\n",
    "\n",
    "dst = cv2.imread('./Data/Image/02.jpg', cv2.IMREAD_COLOR)\n",
    "\n",
    "h1, w1 = left.shape[:2]\n",
    "h2, w2 = right.shape[:2]\n",
    "\n",
    "crop1 = dst[0:h1, 0:w1]    # src, mask와 같은 크기의 부분 영상 추출\n",
    "crop2 = dst[0:h2, 0:w2]    # src, mask와 같은 크기의 부분 영상 추출\n",
    "\n",
    "cv2.copyTo(left, mask1, crop1)\n",
    "cv2.copyTo(right, mask2, crop2)\n",
    "\n",
    "cv2.imshow('dst', dst)\n",
    "\n",
    "cv2.waitKey() \n",
    "cv2.destroyAllWindows()"
   ]
  },
  {
   "cell_type": "code",
   "execution_count": null,
   "metadata": {},
   "outputs": [],
   "source": []
  },
  {
   "cell_type": "code",
   "execution_count": 124,
   "metadata": {},
   "outputs": [],
   "source": []
  },
  {
   "cell_type": "code",
   "execution_count": null,
   "metadata": {},
   "outputs": [],
   "source": []
  }
 ],
 "metadata": {
  "kernelspec": {
   "display_name": "Python 3.9.13 ('conda3.9')",
   "language": "python",
   "name": "python3"
  },
  "language_info": {
   "codemirror_mode": {
    "name": "ipython",
    "version": 3
   },
   "file_extension": ".py",
   "mimetype": "text/x-python",
   "name": "python",
   "nbconvert_exporter": "python",
   "pygments_lexer": "ipython3",
   "version": "3.9.13"
  },
  "orig_nbformat": 4,
  "vscode": {
   "interpreter": {
    "hash": "0088ee2cbd7afdef503747ad15d8e9b92c4b3cb4dc2274aa1e35eb8b607389d9"
   }
  }
 },
 "nbformat": 4,
 "nbformat_minor": 2
}
