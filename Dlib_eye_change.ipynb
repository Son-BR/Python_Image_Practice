{
 "cells": [
  {
   "cell_type": "code",
   "execution_count": 1,
   "metadata": {},
   "outputs": [],
   "source": [
    "import numpy as np\n",
    "import cv2 "
   ]
  },
  {
   "cell_type": "code",
   "execution_count": 26,
   "metadata": {},
   "outputs": [],
   "source": [
    "# 이미지 경로 입력하면 이미지, 양눈 좌표 반환 함수\n",
    "\n",
    "def eye_detect(path):\n",
    "    \n",
    "    # 눈탐지 모델\n",
    "    eye_casecade = cv2.CascadeClassifier(cv2.data.haarcascades + 'haarcascade_eye.xml')\n",
    "    \n",
    "    # np.fromfile(바이너리(텍스트)파일or경로, dtype)\n",
    "    ff = np.fromfile(path, np.uint8) # uint8:양수, 2^8개, 0~255\n",
    "    \n",
    "    # cv2.imencode(출력파일확장자, 합축할이미지, params) return 압축결과(bool), 압축된이미지\n",
    "    # params : https://docs.opencv.org/3.4/d8/d6a/group__imgcodecs__flags.html#ga292d81be8d76901bff7988d18d2b42ac\n",
    "    \n",
    "    # cv2.imdecode(인코딩된배열, ImreadModes) return 이미지배열\n",
    "    # ImreadModes : https://docs.opencv.org/3.4/d8/d6a/group__imgcodecs__flags.html#ga61d9b0126a3e57d9277ac48327799c80\n",
    "    img = cv2.imdecode(ff, cv2.IMREAD_UNCHANGED)\n",
    "    \n",
    "    # 이미지 리사이즈\n",
    "    img = cv2.resize(img, dsize=(0, 0), fx=1.0, fy=1.0, interpolation=cv2.INTER_LINEAR)\n",
    "    \n",
    "    # 이미지 컬러 설정\n",
    "    gray = cv2.cvtColor(img, cv2.COLOR_BGR2GRAY)\n",
    "    \n",
    "    \n",
    "    # 눈탐지\n",
    "    eyes = eye_casecade.detectMultiScale(img)\n",
    "    \n",
    "    # 눈 좌우 결정\n",
    "    if eyes[0][0]<=eyes[1][0]:\n",
    "        x1, x2, x3, x4 = eyes[0]\n",
    "        y1, y2, y3, y4 = eyes[1]\n",
    "        \n",
    "    else :\n",
    "        x1, x2, x3, x4 = eyes[1]\n",
    "        y1, y2, y3, y4 = eyes[0]\n",
    "    \n",
    "    # 눈이미지만 추출\n",
    "    left=img[x2:x2+x4,x1:x1+x3]\n",
    "    right=img[y2:y2+y4,y1:y1+y3]\n",
    "\n",
    "    # img:원본이미지, left:왼눈, right:오른눈, [[x1, x2, x3, x4], [y1, y2, y3, y4]]:[왼눈좌표, 오른눈좌표]\n",
    "    return img, left, right, [[x1, x2, x3, x4], [y1, y2, y3, y4]]"
   ]
  },
  {
   "cell_type": "code",
   "execution_count": null,
   "metadata": {},
   "outputs": [],
   "source": []
  },
  {
   "cell_type": "code",
   "execution_count": 49,
   "metadata": {},
   "outputs": [],
   "source": [
    "img, left, right, eyes = eye_detect('./Data/Image/03.jpg')\n",
    "\n",
    "# # 왼눈 확인\n",
    "# cv2.imshow('img', left)\n",
    "# cv2.waitKey(0)\n",
    "# cv2.destroyAllWindows()\n",
    "\n",
    "# # 오른눈 확인\n",
    "# cv2.imshow('img', right)\n",
    "# cv2.waitKey(0)\n",
    "# cv2.destroyAllWindows()\n",
    "\n",
    "# # 원본이미지 확인\n",
    "# cv2.imshow('img', img)\n",
    "# cv2.waitKey(0)\n",
    "# cv2.destroyAllWindows()"
   ]
  },
  {
   "cell_type": "code",
   "execution_count": 50,
   "metadata": {},
   "outputs": [
    {
     "data": {
      "text/plain": [
       "[[60, 76, 35, 35], [105, 76, 34, 34]]"
      ]
     },
     "execution_count": 50,
     "metadata": {},
     "output_type": "execute_result"
    }
   ],
   "source": [
    "# 이미지에서 눈 좌표\n",
    "eyes"
   ]
  },
  {
   "cell_type": "code",
   "execution_count": 51,
   "metadata": {},
   "outputs": [],
   "source": [
    "img2, left2, right2, eyes2 = eye_detect('./Data/Image/02.jpg')\n",
    "\n",
    "\n",
    "# cv2.imshow('img', left2)\n",
    "# cv2.waitKey(0)\n",
    "# cv2.destroyAllWindows()\n",
    "\n",
    "# cv2.imshow('img', right2)\n",
    "# cv2.waitKey(0)\n",
    "# cv2.destroyAllWindows()\n",
    "\n",
    "# cv2.imshow('img', img2)\n",
    "# cv2.waitKey(0)\n",
    "# cv2.destroyAllWindows()"
   ]
  },
  {
   "cell_type": "code",
   "execution_count": 65,
   "metadata": {},
   "outputs": [],
   "source": [
    "# 눈 합성\n",
    "\n",
    "# 눈의 왼쪽 위 모서리 기준 x1=x좌표, x2=y좌표, x3,x4=길이\n",
    "x1, x2, x3, x4=eyes[0]\n",
    "y1, y2, y3, y4=eyes[1]\n",
    "\n",
    "# 왼눈\n",
    "# left2 = cv2.resize(left2, (0, 0), fx=4, fy=4, interpolation=cv2.INTER_NEAREST)\n",
    "left2 = cv2.resize(left2, eyes[1][2:])\n",
    "\n",
    "# mask_l = left2[:, :, -1]    # mask는 알파 채널로 만든 마스크 영상\n",
    "# left2 = left2[:, :, 0:3]    # src는 b, g, r 3채널로 구성된 컬러 영상\n",
    "\n",
    "# img[y2:y2+y4,y1:y1+y3] =left2*1 + (img[y2:y2+y4,y1:y1+y3])*0.0\n",
    "\n",
    "\n",
    "# 오른눈\n",
    "\n",
    "# right2 = cv2.resize(right2, (0, 0), fx=4, fy=4, interpolation=cv2.INTER_NEAREST)\n",
    "right2 = cv2.resize(right2, eyes[0][2:])\n",
    "\n",
    "# mask_r = right2[:, :, -1]    # mask는 알파 채널로 만든 마스크 영상\n",
    "#right2 = right2[:, :, 0:3]    # src는 b, g, r 3채널로 구성된 컬러 영상\n",
    "\n",
    "# img[x2:x2+x4,x1:x1+x3] =right2*1 + (img[x2:x2+x4,x1:x1+x3])*0.0\n",
    "\n",
    "\n",
    "# cv2.imshow('dst', img)\n",
    "# cv2.waitKey() \n",
    "# cv2.destroyAllWindows()"
   ]
  },
  {
   "cell_type": "code",
   "execution_count": 68,
   "metadata": {},
   "outputs": [],
   "source": [
    "# 오른쪽 눈 합성\n",
    "result = cv2.seamlessClone(\n",
    "            right2,\n",
    "            img,\n",
    "            np.full(right2.shape[:2], 255, right2.dtype),\n",
    "            (x1+(x3//2),x2+(x3//2)),\n",
    "            cv2.MIXED_CLONE\n",
    "        )\n",
    "\n",
    "# 왼쪽 눈 합성\n",
    "result = cv2.seamlessClone(\n",
    "            left2,\n",
    "            result,\n",
    "            np.full(left2.shape[:2], 255, left2.dtype),\n",
    "            (y1+(y3//2),y2+(y3//2)),\n",
    "            cv2.MIXED_CLONE\n",
    "        )"
   ]
  },
  {
   "cell_type": "code",
   "execution_count": 69,
   "metadata": {},
   "outputs": [
    {
     "data": {
      "text/plain": [
       "-1"
      ]
     },
     "execution_count": 69,
     "metadata": {},
     "output_type": "execute_result"
    }
   ],
   "source": [
    "# 이미지 확인\n",
    "cv2.imshow('after', result)\n",
    "cv2.waitKey() "
   ]
  },
  {
   "cell_type": "code",
   "execution_count": null,
   "metadata": {},
   "outputs": [],
   "source": []
  }
 ],
 "metadata": {
  "kernelspec": {
   "display_name": "Python 3.9.13 ('conda3.9')",
   "language": "python",
   "name": "python3"
  },
  "language_info": {
   "codemirror_mode": {
    "name": "ipython",
    "version": 3
   },
   "file_extension": ".py",
   "mimetype": "text/x-python",
   "name": "python",
   "nbconvert_exporter": "python",
   "pygments_lexer": "ipython3",
   "version": "3.9.13"
  },
  "orig_nbformat": 4,
  "vscode": {
   "interpreter": {
    "hash": "0088ee2cbd7afdef503747ad15d8e9b92c4b3cb4dc2274aa1e35eb8b607389d9"
   }
  }
 },
 "nbformat": 4,
 "nbformat_minor": 2
}
