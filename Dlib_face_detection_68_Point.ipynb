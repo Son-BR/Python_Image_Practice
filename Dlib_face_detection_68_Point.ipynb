{
 "cells": [
  {
   "cell_type": "code",
   "execution_count": 1,
   "metadata": {},
   "outputs": [],
   "source": [
    "import cv2 # opencv : 이미지 합성\n",
    "import dlib # 얼굴 영역 탐지, 랜드마크 탐지\n",
    "from imutils import face_utils, resize #\n",
    "import numpy as np "
   ]
  },
  {
   "cell_type": "code",
   "execution_count": 4,
   "metadata": {},
   "outputs": [
    {
     "data": {
      "text/plain": [
       "-1"
      ]
     },
     "execution_count": 4,
     "metadata": {},
     "output_type": "execute_result"
    }
   ],
   "source": [
    "# 눈 추출후 합성(좌표값 :실패했음)\n",
    "\n",
    "orange_img = cv2.imread('./Data/Image/02.jpg') # 이미지를 opencv로 읽어와서 orange_img에 저장\n",
    "orange_img = cv2.resize(orange_img, dsize=(512, 512)) # 가로 512, 세로 512로 resize 해준다.\n",
    "\n",
    "detector = dlib.get_frontal_face_detector() # dlib의 얼굴 영역 탐지\n",
    "predictor = dlib.shape_predictor('shape_predictor_68_face_landmarks.dat') # 랜드마크 탐지\n",
    "\n",
    "img=cv2.imread('./Data/Image/face.jpg')\n",
    "faces = detector(img)\n",
    "face=faces[0]\n",
    "x1, y1, x2, y2 = face.left(), face.top(), face.right(), face.bottom()\n",
    "face_img = img[y1:y2, x1:x2].copy()\n",
    "\n",
    "shape = predictor(img, face) # 랜드마크 68개의 점 구하기\n",
    "shape = face_utils.shape_to_np(shape) # dlib 오브젝트를 numpy로 바꿔준다.\n",
    "\n",
    "\n",
    "# eyes\n",
    "le_x1 = shape[36, 0]\n",
    "le_y1 = shape[37, 1]\n",
    "le_x2 = shape[39, 0]\n",
    "le_y2 = shape[41, 1]\n",
    "le_margin = int((le_x2 - le_x1) * 0.18) # 눈에 따라 달라질 수 있음\n",
    "\n",
    "re_x1 = shape[42, 0]\n",
    "re_y1 = shape[43, 1]\n",
    "re_x2 = shape[45, 0]\n",
    "re_y2 = shape[47, 1]\n",
    "re_margin = int((re_x2 - re_x1) * 0.18)\n",
    "\n",
    "left_eye_img = img[le_y1-le_margin:le_y2+le_margin, le_x1-le_margin:le_x2+le_margin].copy()\n",
    "right_eye_img = img[re_y1-re_margin:re_y2+re_margin, re_x1-re_margin:re_x2+re_margin].copy()\n",
    "\n",
    "left_eye_img = resize(left_eye_img, width=100) # 가로 100 사이즈 resize\n",
    "right_eye_img = resize(right_eye_img, width=100)\n",
    "\n",
    "\n",
    "result = orange_img.copy()\n",
    "\n",
    "result = cv2.seamlessClone( # 푸아썸블랜딩 opencv의 seamlessClone 티가 안나게 합성해준다.\n",
    "            left_eye_img, # 왼쪽눈 합성\n",
    "            result, # result 에다가 합성\n",
    "            np.full(left_eye_img.shape[:2], 255, left_eye_img.dtype),\n",
    "            (150, 200),\n",
    "            cv2.MIXED_CLONE # 옵션으로 MIXED_CLONE 하면 지가 알아서 합성해준다.\n",
    "        )\n",
    "\n",
    "result = cv2.seamlessClone(\n",
    "            right_eye_img, # 오른쪽 눈 합성\n",
    "            result,\n",
    "            np.full(right_eye_img.shape[:2], 255, right_eye_img.dtype),\n",
    "            (300, 200),\n",
    "            cv2.MIXED_CLONE\n",
    "        )\n",
    "\n",
    "cv2.imshow('orange', result)\n",
    "cv2.waitKey(0)"
   ]
  },
  {
   "cell_type": "code",
   "execution_count": 3,
   "metadata": {},
   "outputs": [
    {
     "data": {
      "text/plain": [
       "array([25, 25, 25, 25, 25], dtype=uint8)"
      ]
     },
     "execution_count": 3,
     "metadata": {},
     "output_type": "execute_result"
    }
   ],
   "source": [
    "np.full(5, 25, left_eye_img.dtype)"
   ]
  },
  {
   "cell_type": "code",
   "execution_count": 5,
   "metadata": {},
   "outputs": [],
   "source": [
    "# 웹캠 열기\n",
    "\n",
    "webcam = cv2.VideoCapture(0)\n",
    "\n",
    "if not webcam.isOpened():\n",
    "    print(\"Could not open webcam\")\n",
    "    exit()\n",
    "\n",
    "while webcam.isOpened():\n",
    "    status, frame = webcam.read()\n",
    "\n",
    "    if status:\n",
    "        cv2.imshow(\"test\", frame)\n",
    "\n",
    "    if cv2.waitKey(1) & 0xFF == ord('q'):\n",
    "        break\n",
    "\n",
    "webcam.release()\n",
    "cv2.destroyAllWindows()\n"
   ]
  },
  {
   "cell_type": "code",
   "execution_count": 5,
   "metadata": {},
   "outputs": [
    {
     "data": {
      "text/plain": [
       "-1"
      ]
     },
     "execution_count": 5,
     "metadata": {},
     "output_type": "execute_result"
    }
   ],
   "source": [
    "# 이미지 열기\n",
    "\n",
    "orange_img = cv2.imread('./Data/Image/orange.jpg') # 이미지를 opencv로 읽어와서 orange_img에 저장\n",
    "orange_img = cv2.resize(orange_img, dsize=(512, 512)) # 가로 512, 세로 512로 resize 해준다.\n",
    "\n",
    "cv2.imshow('orange', orange_img)\n",
    "cv2.waitKey(0)"
   ]
  },
  {
   "cell_type": "code",
   "execution_count": null,
   "metadata": {},
   "outputs": [],
   "source": []
  },
  {
   "cell_type": "code",
   "execution_count": 2,
   "metadata": {},
   "outputs": [
    {
     "ename": "KeyboardInterrupt",
     "evalue": "",
     "output_type": "error",
     "traceback": [
      "\u001b[1;31m---------------------------------------------------------------------------\u001b[0m",
      "\u001b[1;31mKeyboardInterrupt\u001b[0m                         Traceback (most recent call last)",
      "\u001b[1;32mc:\\git\\WKIT\\Test\\dlib_face_68.ipynb 셀 7\u001b[0m in \u001b[0;36m<cell line: 16>\u001b[1;34m()\u001b[0m\n\u001b[0;32m     <a href='vscode-notebook-cell:/c%3A/git/WKIT/Test/dlib_face_68.ipynb#W6sZmlsZQ%3D%3D?line=18'>19</a>\u001b[0m \u001b[39mif\u001b[39;00m \u001b[39mnot\u001b[39;00m ret: \u001b[39m# 프레임이 없으면 반복문 빠져 나와\u001b[39;00m\n\u001b[0;32m     <a href='vscode-notebook-cell:/c%3A/git/WKIT/Test/dlib_face_68.ipynb#W6sZmlsZQ%3D%3D?line=19'>20</a>\u001b[0m     \u001b[39mbreak\u001b[39;00m\n\u001b[1;32m---> <a href='vscode-notebook-cell:/c%3A/git/WKIT/Test/dlib_face_68.ipynb#W6sZmlsZQ%3D%3D?line=21'>22</a>\u001b[0m faces \u001b[39m=\u001b[39m detector(img) \u001b[39m# 얼굴영역을 인식해주면 faces에 좌표 정보가 들어간다.\u001b[39;00m\n\u001b[0;32m     <a href='vscode-notebook-cell:/c%3A/git/WKIT/Test/dlib_face_68.ipynb#W6sZmlsZQ%3D%3D?line=23'>24</a>\u001b[0m result \u001b[39m=\u001b[39m orange_img\u001b[39m.\u001b[39mcopy() \u001b[39m# result에 오렌지 이미지를 카피. 나중에 합성할때 쓰인다.\u001b[39;00m\n\u001b[0;32m     <a href='vscode-notebook-cell:/c%3A/git/WKIT/Test/dlib_face_68.ipynb#W6sZmlsZQ%3D%3D?line=25'>26</a>\u001b[0m \u001b[39mif\u001b[39;00m \u001b[39mlen\u001b[39m(faces) \u001b[39m>\u001b[39m \u001b[39m0\u001b[39m: \u001b[39m# 얼굴이 1개 이상이면 실행\u001b[39;00m\n",
      "\u001b[1;31mKeyboardInterrupt\u001b[0m: "
     ]
    }
   ],
   "source": [
    "# 웹캠 어노잉오렌지 \n",
    "\n",
    "import cv2 # opencv : 이미지 합성\n",
    "import dlib # 얼굴 영역 탐지, 랜드마크 탐지\n",
    "from imutils import face_utils, resize #\n",
    "import numpy as np\n",
    "\n",
    "orange_img = cv2.imread('./Data/Image/orange.jpg') # 이미지를 opencv로 읽어와서 orange_img에 저장\n",
    "orange_img = cv2.resize(orange_img, dsize=(512, 512)) # 가로 512, 세로 512로 resize 해준다.\n",
    "\n",
    "detector = dlib.get_frontal_face_detector() # dlib의 얼굴 영역 탐지\n",
    "predictor = dlib.shape_predictor('shape_predictor_68_face_landmarks.dat') # 랜드마크 탐지\n",
    "\n",
    "cap = cv2.VideoCapture('./Data/Video/FD_In_H11H22H32_0004_20201016_13_AdobeExpress.mp4') # 0으로 하면 웹캠 캡쳐\n",
    "\n",
    "while cap.isOpened():\n",
    "    ret, img = cap.read() # read 로 이미지를 읽어준 다음에\n",
    "    \n",
    "    if not ret: # 프레임이 없으면 반복문 빠져 나와\n",
    "        break\n",
    "\n",
    "    faces = detector(img) # 얼굴영역을 인식해주면 faces에 좌표 정보가 들어간다.\n",
    "\n",
    "    result = orange_img.copy() # result에 오렌지 이미지를 카피. 나중에 합성할때 쓰인다.\n",
    "\n",
    "    if len(faces) > 0: # 얼굴이 1개 이상이면 실행\n",
    "        face = faces[0] # 1개의 얼굴만 사용하므로 0번 인덱스만 face라는 변수에 저장\n",
    "        \n",
    "        x1, y1, x2, y2 = face.left(), face.top(), face.right(), face.bottom()\n",
    "        face_img = img[y1:y2, x1:x2].copy() # face_img에 저장을 해준다\n",
    "\n",
    "        shape = predictor(img, face) # 랜드마크 68개의 점 구하기\n",
    "        shape = face_utils.shape_to_np(shape) # dlib 오브젝트를 numpy로 바꿔준다.\n",
    "\n",
    "        for p in shape:\n",
    "            cv2.circle(face_img, center=(p[0] - x1, p[1] - y1), radius=2, color=255, thickness=-1)\n",
    "\n",
    "        # eyes\n",
    "        le_x1 = shape[36, 0]\n",
    "        le_y1 = shape[37, 1]\n",
    "        le_x2 = shape[39, 0]\n",
    "        le_y2 = shape[41, 1]\n",
    "        le_margin = int((le_x2 - le_x1) * 0.18) # 눈에 따라 달라질 수 있음\n",
    "\n",
    "        re_x1 = shape[42, 0]\n",
    "        re_y1 = shape[43, 1]\n",
    "        re_x2 = shape[45, 0]\n",
    "        re_y2 = shape[47, 1]\n",
    "        re_margin = int((re_x2 - re_x1) * 0.18)\n",
    "\n",
    "        left_eye_img = img[le_y1-le_margin:le_y2+le_margin, le_x1-le_margin:le_x2+le_margin].copy()\n",
    "        right_eye_img = img[re_y1-re_margin:re_y2+re_margin, re_x1-re_margin:re_x2+re_margin].copy()\n",
    "\n",
    "        left_eye_img = resize(left_eye_img, width=100) # 가로 100 사이즈 resize\n",
    "        right_eye_img = resize(right_eye_img, width=100)\n",
    "\n",
    "        result = cv2.seamlessClone( # 푸아썸블랜딩 opencv의 seamlessClone 티가 안나게 합성해준다.\n",
    "            left_eye_img, # 왼쪽눈 합성\n",
    "            result, # result 에다가 합성\n",
    "            np.full(left_eye_img.shape[:2], 255, left_eye_img.dtype),\n",
    "            (150, 200),\n",
    "            cv2.MIXED_CLONE # 옵션으로 MIXED_CLONE 하면 지가 알아서 합성해준다.\n",
    "        )\n",
    "\n",
    "        result = cv2.seamlessClone(\n",
    "            right_eye_img, # 오른쪽 눈 합성\n",
    "            result,\n",
    "            np.full(right_eye_img.shape[:2], 255, right_eye_img.dtype),\n",
    "            (300, 200),\n",
    "            cv2.MIXED_CLONE\n",
    "        )\n",
    "        # 여기까지 하면 양쪽눈을 다 맞춘다.\n",
    "\n",
    "        # mouth\n",
    "        mouth_x1 = shape[48, 0]\n",
    "        mouth_y1 = shape[50, 1]\n",
    "        mouth_x2 = shape[54, 0]\n",
    "        mouth_y2 = shape[57, 1]\n",
    "        mouth_margin = int((mouth_x2 - mouth_x1) * 0.1)\n",
    "        \n",
    "        # 크롭해서 입 이미지 저장한다.\n",
    "        mouth_img = img[mouth_y1-mouth_margin:mouth_y2+mouth_margin, mouth_x1-mouth_margin:mouth_x2+mouth_margin].copy()\n",
    "\n",
    "        mouth_img = resize(mouth_img, width=250)\n",
    "\n",
    "        result = cv2.seamlessClone(\n",
    "            mouth_img,\n",
    "            result,\n",
    "            np.full(mouth_img.shape[:2], 255, mouth_img.dtype),\n",
    "            (230, 320),\n",
    "            cv2.MIXED_CLONE\n",
    "        )\n",
    "\n",
    "        # cv2.imshow('left', left_eye_img)\n",
    "        # cv2.imshow('right', right_eye_img)\n",
    "        # cv2.imshow('mouth', mouth_img)\n",
    "        cv2.imshow('face', face_img)\n",
    "\n",
    "        cv2.imshow('result', result)\n",
    "\n",
    "    # cv2.imshow('img', img)\n",
    "    if cv2.waitKey(1) == ord('q'):\n",
    "        break"
   ]
  },
  {
   "cell_type": "code",
   "execution_count": null,
   "metadata": {},
   "outputs": [],
   "source": [
    "import cv2 # opencv : 이미지 합성\n",
    "import dlib # 얼굴 영역 탐지, 랜드마크 탐지\n",
    "from imutils import face_utils, resize #\n",
    "import numpy as np\n",
    "\n",
    "img = cv2.imread('./Data/Image/03.jpg') # 이미지를 opencv로 읽어와서 orange_img에 저장\n",
    "img = cv2.resize(img, dsize=(512, 512)) # 가로 512, 세로 512로 resize 해준다.\n",
    "\n",
    "detector = dlib.get_frontal_face_detector() # dlib의 얼굴 영역 탐지\n",
    "predictor = dlib.shape_predictor('shape_predictor_68_face_landmarks.dat') # 랜드마크 탐지(파일다운로드함)\n",
    "faces = detector(img)\n",
    "face=faces[0]\n",
    "\n",
    "x1, y1, x2, y2 = face.left(), face.top(), face.right(), face.bottom()\n",
    "face_img = img[y1:y2, x1:x2].copy()"
   ]
  },
  {
   "cell_type": "code",
   "execution_count": 5,
   "metadata": {},
   "outputs": [
    {
     "data": {
      "text/plain": [
       "-1"
      ]
     },
     "execution_count": 5,
     "metadata": {},
     "output_type": "execute_result"
    }
   ],
   "source": [
    "cv2.imshow('e', face_img)\n",
    "cv2.waitKey(0)"
   ]
  },
  {
   "cell_type": "code",
   "execution_count": 5,
   "metadata": {},
   "outputs": [],
   "source": [
    "shape = predictor(img, face)\n",
    "shape = face_utils.shape_to_np(shape)"
   ]
  },
  {
   "cell_type": "code",
   "execution_count": 6,
   "metadata": {},
   "outputs": [
    {
     "data": {
      "text/plain": [
       "array([130, 182])"
      ]
     },
     "execution_count": 6,
     "metadata": {},
     "output_type": "execute_result"
    }
   ],
   "source": [
    "shape[0]"
   ]
  },
  {
   "cell_type": "code",
   "execution_count": 7,
   "metadata": {},
   "outputs": [],
   "source": [
    "# cv2.line(black_canvas, (300, 300), (300, 300), red, 5)\n",
    "# img_show(\"Point\", black_canvas)"
   ]
  },
  {
   "cell_type": "code",
   "execution_count": 8,
   "metadata": {},
   "outputs": [],
   "source": [
    "j=shape[0]\n",
    "for i in shape:\n",
    "    img=cv2.line(img,i,j, (255,255,255), 1)\n",
    "    j=i"
   ]
  },
  {
   "cell_type": "code",
   "execution_count": 10,
   "metadata": {},
   "outputs": [],
   "source": [
    "\n",
    "for i in shape:\n",
    "    img=cv2.line(img,i,i, (255,255,255), 3)\n",
    " "
   ]
  },
  {
   "cell_type": "code",
   "execution_count": 11,
   "metadata": {},
   "outputs": [
    {
     "data": {
      "text/plain": [
       "-1"
      ]
     },
     "execution_count": 11,
     "metadata": {},
     "output_type": "execute_result"
    }
   ],
   "source": [
    "cv2.imshow('img', img)\n",
    "cv2.waitKey(0)"
   ]
  },
  {
   "cell_type": "code",
   "execution_count": null,
   "metadata": {},
   "outputs": [],
   "source": []
  }
 ],
 "metadata": {
  "kernelspec": {
   "display_name": "Python 3.8.13 ('torch_conda3.8')",
   "language": "python",
   "name": "python3"
  },
  "language_info": {
   "codemirror_mode": {
    "name": "ipython",
    "version": 3
   },
   "file_extension": ".py",
   "mimetype": "text/x-python",
   "name": "python",
   "nbconvert_exporter": "python",
   "pygments_lexer": "ipython3",
   "version": "3.8.13"
  },
  "orig_nbformat": 4,
  "vscode": {
   "interpreter": {
    "hash": "f98a42b8bc21e77715747c9bb39187f4c90456d6964ccc6a99ab4ed80b694914"
   }
  }
 },
 "nbformat": 4,
 "nbformat_minor": 2
}
